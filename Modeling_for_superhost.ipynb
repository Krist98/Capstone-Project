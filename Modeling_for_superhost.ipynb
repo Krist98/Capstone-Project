{
 "cells": [
  {
   "cell_type": "code",
   "execution_count": 11,
   "metadata": {},
   "outputs": [],
   "source": [
    "import numpy as np\n",
    "import pandas as pd\n",
    "import matplotlib.pyplot as plt\n",
    "import seaborn as sns\n",
    "import sklearn\n",
    "from sklearn.preprocessing import LabelEncoder\n",
    "from sklearn.neighbors import KNeighborsClassifier\n",
    "from sklearn.metrics import auc, confusion_matrix, classification_report, precision_score, roc_curve\n",
    "from sklearn.metrics import roc_auc_score, precision_recall_curve, average_precision_score\n",
    "import warnings\n",
    "warnings.filterwarnings(\"ignore\")\n",
    "from sklearn.model_selection import train_test_split, KFold, cross_val_score\n",
    "from sklearn.model_selection import cross_val_score\n",
    "from sklearn.ensemble import GradientBoostingClassifier\n",
    "from sklearn.ensemble import RandomForestClassifier\n",
    "from sklearn.ensemble import AdaBoostClassifier\n",
    "from sklearn import svm\n",
    "from sklearn import tree\n",
    "from sklearn.linear_model import LogisticRegression, LogisticRegressionCV"
   ]
  },
  {
   "cell_type": "code",
   "execution_count": 37,
   "metadata": {},
   "outputs": [],
   "source": [
    "full_data_Yerevan = pd.read_excel(\"cleaned_full_data.xlsx\")"
   ]
  },
  {
   "cell_type": "code",
   "execution_count": 38,
   "metadata": {},
   "outputs": [
    {
     "data": {
      "text/plain": [
       "Index(['city', 'country', 'district', 'host_since', 'host_response_rate',\n",
       "       'host_identity_verified', 'review', 'superhost', 'property_type',\n",
       "       'accomodates', 'number_bathroom', 'number_bedroom', 'number_beds',\n",
       "       'price', 'cleanliness', 'accuracy', 'communication', 'location',\n",
       "       'check_in', 'value'],\n",
       "      dtype='object')"
      ]
     },
     "execution_count": 38,
     "metadata": {},
     "output_type": "execute_result"
    }
   ],
   "source": [
    "full_data_Yerevan.columns"
   ]
  },
  {
   "cell_type": "code",
   "execution_count": 39,
   "metadata": {},
   "outputs": [
    {
     "name": "stdout",
     "output_type": "stream",
     "text": [
      "Duplicates: Yerevan 185\n"
     ]
    }
   ],
   "source": [
    "print(\"Duplicates: Yerevan\", full_data_Yerevan.duplicated().sum()) "
   ]
  },
  {
   "cell_type": "code",
   "execution_count": 40,
   "metadata": {},
   "outputs": [
    {
     "name": "stdout",
     "output_type": "stream",
     "text": [
      "Missing values: Yerevan 0\n"
     ]
    }
   ],
   "source": [
    "print(\"Missing values: Yerevan\", full_data_Yerevan.isna().sum().sum())"
   ]
  },
  {
   "cell_type": "code",
   "execution_count": 41,
   "metadata": {},
   "outputs": [],
   "source": [
    "full_data_Yerevan.host_since = 2023 - full_data_Yerevan.host_since"
   ]
  },
  {
   "cell_type": "code",
   "execution_count": 42,
   "metadata": {},
   "outputs": [
    {
     "data": {
      "text/plain": [
       "0       4\n",
       "1       1\n",
       "2       4\n",
       "3       1\n",
       "4       8\n",
       "       ..\n",
       "1522    3\n",
       "1523    1\n",
       "1524    4\n",
       "1525    8\n",
       "1526    1\n",
       "Name: host_since, Length: 1527, dtype: int64"
      ]
     },
     "execution_count": 42,
     "metadata": {},
     "output_type": "execute_result"
    }
   ],
   "source": [
    "full_data_Yerevan.host_since "
   ]
  },
  {
   "cell_type": "code",
   "execution_count": 43,
   "metadata": {},
   "outputs": [],
   "source": [
    "categorical_label_encoder = LabelEncoder()\n",
    "full_data_Yerevan[\"district\"] = categorical_label_encoder.fit_transform(full_data_Yerevan[\"district\"])\n",
    "full_data_Yerevan[\"host_identity_verified\"] = categorical_label_encoder.fit_transform(full_data_Yerevan[\"host_identity_verified\"])\n",
    "full_data_Yerevan[\"superhost\"] = categorical_label_encoder.fit_transform(full_data_Yerevan[\"superhost\"])\n",
    "full_data_Yerevan[\"property_type\"] = categorical_label_encoder.fit_transform(full_data_Yerevan[\"property_type\"])"
   ]
  },
  {
   "cell_type": "code",
   "execution_count": 44,
   "metadata": {},
   "outputs": [],
   "source": [
    "full_data_Yerevan = full_data_Yerevan.drop(['country'], axis = 1)\n",
    "full_data_Yerevan = full_data_Yerevan.drop(['city'], axis = 1)\n",
    "full_data_Yerevan = full_data_Yerevan.drop(['accomodates'], axis = 1)\n",
    "full_data_Yerevan = full_data_Yerevan.drop(['number_bedroom'], axis = 1)\n",
    "full_data_Yerevan = full_data_Yerevan.drop(['value'], axis = 1)\n",
    "full_data_Yerevan = full_data_Yerevan.drop(['check_in'], axis = 1)\n",
    "full_data_Yerevan = full_data_Yerevan.drop(['accuracy'], axis = 1)"
   ]
  },
  {
   "cell_type": "code",
   "execution_count": 45,
   "metadata": {},
   "outputs": [],
   "source": [
    "X = full_data_Yerevan.drop([\"superhost\"], axis = 1)\n",
    "y = full_data_Yerevan.superhost"
   ]
  },
  {
   "cell_type": "code",
   "execution_count": 46,
   "metadata": {},
   "outputs": [],
   "source": [
    "cs = [0.000001 ,0.00001, 0.0001, 0.001, 0.01, 0.1, 1, 10, 100, 1000]"
   ]
  },
  {
   "cell_type": "code",
   "execution_count": 47,
   "metadata": {},
   "outputs": [],
   "source": [
    "# train test split data \n",
    "\n",
    "X0, X1, Y0, Y1 = train_test_split(X, y, test_size = 0.2, random_state = 42)"
   ]
  },
  {
   "cell_type": "code",
   "execution_count": 48,
   "metadata": {},
   "outputs": [],
   "source": [
    "logreg_cv = LogisticRegressionCV(Cs = cs, cv = 10, scoring = \"accuracy\", random_state = 58)"
   ]
  },
  {
   "cell_type": "code",
   "execution_count": 49,
   "metadata": {},
   "outputs": [
    {
     "data": {
      "text/plain": [
       "0.6781326781326781"
      ]
     },
     "execution_count": 49,
     "metadata": {},
     "output_type": "execute_result"
    }
   ],
   "source": [
    "logreg_cv.fit(X0, Y0)\n",
    "logreg_cv.score(X0, Y0)"
   ]
  },
  {
   "cell_type": "code",
   "execution_count": 51,
   "metadata": {},
   "outputs": [
    {
     "name": "stdout",
     "output_type": "stream",
     "text": [
      "Optimal C is: 100.0\n",
      "Corresponding accuracy is: 0.6781326781326781\n"
     ]
    }
   ],
   "source": [
    "optimal_c = logreg_cv.C_\n",
    "optimal_c = optimal_c[0]\n",
    "\n",
    "print(\"Optimal C is:\", optimal_c)\n",
    "print(\"Corresponding accuracy is:\", logreg_cv.score(X0, Y0))"
   ]
  },
  {
   "cell_type": "code",
   "execution_count": 52,
   "metadata": {},
   "outputs": [
    {
     "name": "stdout",
     "output_type": "stream",
     "text": [
      "Logistic Regression  score: 0.628992628992629\n"
     ]
    }
   ],
   "source": [
    "logreg_model = LogisticRegression(C = optimal_c)\n",
    "logreg_model.fit(X0, Y0)\n",
    "logreg_model_score = logreg_model.score(X0, Y0)\n",
    "\n",
    "\n",
    "print(\"Logistic Regression  score:\", logreg_model_score)"
   ]
  },
  {
   "cell_type": "code",
   "execution_count": 53,
   "metadata": {},
   "outputs": [
    {
     "name": "stdout",
     "output_type": "stream",
     "text": [
      "Classification Report\n",
      "              precision    recall  f1-score   support\n",
      "\n",
      "           0       0.59      0.84      0.70       167\n",
      "           1       0.62      0.31      0.41       139\n",
      "\n",
      "    accuracy                           0.60       306\n",
      "   macro avg       0.61      0.58      0.56       306\n",
      "weighted avg       0.61      0.60      0.57       306\n",
      "\n"
     ]
    }
   ],
   "source": [
    "logreg_pred = logreg_model.predict(X1)\n",
    "\n",
    "print(\"Classification Report\")\n",
    "print(classification_report( Y1, logreg_pred))"
   ]
  },
  {
   "cell_type": "markdown",
   "metadata": {},
   "source": [
    "### 0.59% of predicted regular hosts are actually regular, and 0.62% of predicted superhosts are actually superhosts"
   ]
  },
  {
   "cell_type": "markdown",
   "metadata": {},
   "source": [
    "# KNN Classifier"
   ]
  },
  {
   "cell_type": "code",
   "execution_count": 56,
   "metadata": {},
   "outputs": [
    {
     "name": "stdout",
     "output_type": "stream",
     "text": [
      "k val: 4, CV Score Avg: 0.8878115420498467 \n",
      "k val: 5, CV Score Avg: 0.8820671731307478 \n",
      "k val: 6, CV Score Avg: 0.866513394642143 \n",
      "k val: 7, CV Score Avg: 0.8534053045448488 \n",
      "k val: 8, CV Score Avg: 0.8353858456617355 \n",
      "k val: 9, CV Score Avg: 0.8239304278288685 \n",
      "k val: 10, CV Score Avg: 0.8116420098627216 \n",
      "k val: 11, CV Score Avg: 0.8050846328135414 \n",
      "k val: 12, CV Score Avg: 0.7944422231107557 \n",
      "k val: 13, CV Score Avg: 0.8018192722910836 \n",
      "k val: 14, CV Score Avg: 0.7936358789817406 \n",
      "k val: 15, CV Score Avg: 0.7813341330134612 \n",
      "k val: 16, CV Score Avg: 0.7567639610822339 \n",
      "k val: 17, CV Score Avg: 0.7575703052112488 \n",
      "k val: 18, CV Score Avg: 0.7559376249500198 \n",
      "k val: 19, CV Score Avg: 0.760042649606824 \n",
      "k val: 20, CV Score Avg: 0.7608556577369052 \n",
      "k val: 21, CV Score Avg: 0.7608689857390378 \n",
      "k val: 22, CV Score Avg: 0.7453018792483007 \n",
      "k val: 23, CV Score Avg: 0.7510529121684659 \n",
      "k val: 24, CV Score Avg: 0.7404038384646141 \n",
      "k val: 25, CV Score Avg: 0.7469545515127283 \n",
      "k val: 26, CV Score Avg: 0.7305544448887111 \n",
      "k val: 27, CV Score Avg: 0.7297347727575637 \n",
      "k val: 28, CV Score Avg: 0.7231840597094494 \n",
      "k val: 29, CV Score Avg: 0.7198987071837932 \n",
      "k val: 30, CV Score Avg: 0.7076436092229775 \n"
     ]
    }
   ],
   "source": [
    "k_value_list = np.arange(3,30) + 1\n",
    "score_results_knn = []\n",
    "\n",
    "for val in k_value_list:\n",
    "    knn = KNeighborsClassifier(n_neighbors=val)\n",
    "    kfold = KFold(n_splits=10)\n",
    "    score = cross_val_score(knn, X0, Y0, cv = kfold, scoring = \"accuracy\")\n",
    "    score_results_knn.append(score)\n",
    "    print(\"k val: %s, CV Score Avg: %s \" % (val, np.mean(score)))"
   ]
  },
  {
   "cell_type": "code",
   "execution_count": 57,
   "metadata": {},
   "outputs": [
    {
     "name": "stdout",
     "output_type": "stream",
     "text": [
      "Optimal Value of k: 4\n",
      "Accuracy: 0.89\n"
     ]
    }
   ],
   "source": [
    "avg_cv_scores_knn = np.mean(np.array(score_results_knn), axis = 1)\n",
    "max_avg_accuracy_index_knn = np.argmax(avg_cv_scores_knn) \n",
    "\n",
    "print(\"Optimal Value of k: %s\" % k_value_list[max_avg_accuracy_index_knn]) \n",
    "print(\"Accuracy: %0.2f\" % np.mean(score_results_knn[max_avg_accuracy_index_knn]))"
   ]
  },
  {
   "cell_type": "code",
   "execution_count": 58,
   "metadata": {},
   "outputs": [
    {
     "name": "stdout",
     "output_type": "stream",
     "text": [
      "Train score: 0.9475839475839476\n",
      "Test score: 0.8954248366013072\n"
     ]
    }
   ],
   "source": [
    "knn_optimal = KNeighborsClassifier(n_neighbors = k_value_list[max_avg_accuracy_index_knn])\n",
    "\n",
    "knn_optimal.fit(X0, Y0)\n",
    "\n",
    "train_score = knn_optimal.score(X0, Y0)\n",
    "test_score = knn_optimal.score(X1,Y1 )\n",
    "\n",
    "print(\"Train score:\", train_score)\n",
    "print(\"Test score:\", test_score)"
   ]
  },
  {
   "cell_type": "markdown",
   "metadata": {},
   "source": [
    "# RandomForestClassifier"
   ]
  },
  {
   "cell_type": "code",
   "execution_count": 60,
   "metadata": {},
   "outputs": [
    {
     "name": "stdout",
     "output_type": "stream",
     "text": [
      "max_depth val: 2, CV Score Avg: 0.7288868814614073 \n",
      "max_depth val: 3, CV Score Avg: 0.7642677908260563 \n",
      "max_depth val: 4, CV Score Avg: 0.8092140921409214 \n",
      "max_depth val: 5, CV Score Avg: 0.8296898524540801 \n",
      "max_depth val: 6, CV Score Avg: 0.8664960353307237 \n",
      "max_depth val: 7, CV Score Avg: 0.891920104386229 \n",
      "max_depth val: 8, CV Score Avg: 0.9083107497741645 \n",
      "max_depth val: 9, CV Score Avg: 0.9295392953929539 \n",
      "max_depth val: 10, CV Score Avg: 0.9278932048579744 \n",
      "max_depth val: 11, CV Score Avg: 0.9418046773060322 \n",
      "max_depth val: 12, CV Score Avg: 0.9574425373883368 \n",
      "max_depth val: 13, CV Score Avg: 0.960764829870521 \n",
      "max_depth val: 14, CV Score Avg: 0.9672789320485797 \n",
      "max_depth val: 15, CV Score Avg: 0.9648499447957443 \n",
      "max_depth val: 16, CV Score Avg: 0.9631536685737228 \n",
      "max_depth val: 17, CV Score Avg: 0.9631436314363143 \n",
      "max_depth val: 18, CV Score Avg: 0.9664358125062733 \n",
      "max_depth val: 19, CV Score Avg: 0.9705309645689049 \n",
      "max_depth val: 20, CV Score Avg: 0.9722272407909264 \n",
      "max_depth val: 21, CV Score Avg: 0.9655726186891499 \n",
      "max_depth val: 22, CV Score Avg: 0.9672086720867209 \n",
      "max_depth val: 23, CV Score Avg: 0.9729900632339658 \n",
      "max_depth val: 24, CV Score Avg: 0.9680317173542107 \n"
     ]
    }
   ],
   "source": [
    "max_depth_param_list = np.arange(2, 25)\n",
    "score_results_rf = []\n",
    "\n",
    "for depth in max_depth_param_list:\n",
    "    rf_reg = RandomForestClassifier(max_depth = depth, max_features = 3, n_estimators = 8)\n",
    "    kfold = KFold(n_splits=15)\n",
    "    score = cross_val_score(rf_reg, X0, Y0, cv = kfold) # default scoring is R^2\n",
    "    score_results_rf.append(score)\n",
    "    print(\"max_depth val: %s, CV Score Avg: %s \" % (depth, np.mean(score)))"
   ]
  },
  {
   "cell_type": "code",
   "execution_count": 61,
   "metadata": {},
   "outputs": [
    {
     "name": "stdout",
     "output_type": "stream",
     "text": [
      "Optimal max_depth value using CV: 23\n"
     ]
    }
   ],
   "source": [
    "rf_avg_cv_scores = np.mean(np.array(score_results_rf), axis = 1)\n",
    "rf_max_avg_accuracy_index = np.argmax(rf_avg_cv_scores) \n",
    "print(\"Optimal max_depth value using CV: %s\" % max_depth_param_list[rf_max_avg_accuracy_index]) "
   ]
  },
  {
   "cell_type": "code",
   "execution_count": 62,
   "metadata": {},
   "outputs": [
    {
     "name": "stdout",
     "output_type": "stream",
     "text": [
      "Model Score on test set: 0.9640522875816994\n"
     ]
    }
   ],
   "source": [
    "mod_rf_reg = RandomForestClassifier(max_depth = max_depth_param_list[rf_max_avg_accuracy_index], oob_score = True)\n",
    "mod_rf_reg_fit = mod_rf_reg.fit(X0, Y0)\n",
    "model_rf_score = mod_rf_reg_fit.score(X1,Y1)\n",
    "print(\"Model Score on test set: %s\" % model_rf_score)"
   ]
  },
  {
   "cell_type": "code",
   "execution_count": 64,
   "metadata": {},
   "outputs": [
    {
     "name": "stdout",
     "output_type": "stream",
     "text": [
      " 1) review                         0.275905\n",
      " 2) price                          0.124825\n",
      " 3) cleanliness                    0.107037\n",
      " 4) host_since                     0.101215\n",
      " 5) property_type                  0.099692\n",
      " 6) location                       0.083567\n",
      " 7) communication                  0.057366\n",
      " 8) number_beds                    0.051437\n",
      " 9) host_response_rate             0.040903\n",
      "10) number_bathroom                0.028984\n",
      "11) district                       0.026121\n",
      "12) host_identity_verified         0.002948\n"
     ]
    }
   ],
   "source": [
    "import numpy as np\n",
    " \n",
    "importances = mod_rf_reg_fit.feature_importances_\n",
    "#\n",
    "# Sort the feature importance in descending order\n",
    "#\n",
    "sorted_indices = np.argsort(importances)[::-1]\n",
    " \n",
    "feat_labels = X1.columns[0:]\n",
    " \n",
    "for f in range(X1.shape[1]):\n",
    "    print(\"%2d) %-*s %f\" % (f + 1, 30,\n",
    "                            feat_labels[sorted_indices[f]],\n",
    "                            importances[sorted_indices[f]]))\n"
   ]
  },
  {
   "cell_type": "code",
   "execution_count": 65,
   "metadata": {},
   "outputs": [
    {
     "data": {
      "image/png": "[encoded data removed]",
      "text/plain": [
       "<Figure size 640x480 with 1 Axes>"
      ]
     },
     "metadata": {},
     "output_type": "display_data"
    }
   ],
   "source": [
    "plt.title('Feature Importance')\n",
    "plt.bar(range(X1.shape[1]), importances[sorted_indices], align='center')\n",
    "plt.xticks(range(X1.shape[1]), X1.columns[sorted_indices], rotation=90)\n",
    "plt.tight_layout()\n",
    "plt.show()"
   ]
  },
  {
   "cell_type": "markdown",
   "metadata": {},
   "source": [
    "# Decision tree classifier"
   ]
  },
  {
   "cell_type": "code",
   "execution_count": 68,
   "metadata": {},
   "outputs": [
    {
     "name": "stdout",
     "output_type": "stream",
     "text": [
      "max_depth val: 2, CV Score Avg: 0.6895841663334665 \n",
      "max_depth val: 3, CV Score Avg: 0.748580567772891 \n",
      "max_depth val: 4, CV Score Avg: 0.7526722644275624 \n",
      "max_depth val: 5, CV Score Avg: 0.7526522724243636 \n",
      "max_depth val: 6, CV Score Avg: 0.8198320671731307 \n",
      "max_depth val: 7, CV Score Avg: 0.8509596161535387 \n"
     ]
    }
   ],
   "source": [
    "from sklearn import tree\n",
    "max_depth_param_list = np.arange(2, 8)\n",
    "score_results_dt = []\n",
    "\n",
    "for depth in max_depth_param_list:\n",
    "    dt_reg = tree.DecisionTreeClassifier(max_depth = depth)\n",
    "    kfold = KFold(n_splits=10)\n",
    "    score = cross_val_score(dt_reg,X0, Y0, cv = kfold) # default scoring is R^2\n",
    "    score_results_dt.append(score)\n",
    "    print(\"max_depth val: %s, CV Score Avg: %s \" % (depth, np.mean(score)))"
   ]
  },
  {
   "cell_type": "code",
   "execution_count": 69,
   "metadata": {},
   "outputs": [
    {
     "name": "stdout",
     "output_type": "stream",
     "text": [
      "Optimal max_depth value using CV: 7\n"
     ]
    }
   ],
   "source": [
    "dt_avg_cv_scores = np.mean(np.array(score_results_dt), axis = 1)\n",
    "dt_max_avg_accuracy_index = np.argmax(dt_avg_cv_scores) \n",
    "print(\"Optimal max_depth value using CV: %s\" % max_depth_param_list[dt_max_avg_accuracy_index]) "
   ]
  },
  {
   "cell_type": "code",
   "execution_count": 70,
   "metadata": {},
   "outputs": [
    {
     "name": "stdout",
     "output_type": "stream",
     "text": [
      "Model Score on test set: 0.8300653594771242\n"
     ]
    }
   ],
   "source": [
    "mod_dt_reg = tree.DecisionTreeClassifier(max_depth = max_depth_param_list[dt_max_avg_accuracy_index])\n",
    "mod_dt_reg_fit = mod_dt_reg.fit(X0, Y0)\n",
    "model_dt_score = mod_dt_reg_fit.score(X1,Y1)\n",
    "print(\"Model Score on test set: %s\" % model_dt_score)"
   ]
  },
  {
   "cell_type": "markdown",
   "metadata": {},
   "source": [
    "#  Gradient Boosting Classifier"
   ]
  },
  {
   "cell_type": "code",
   "execution_count": 71,
   "metadata": {},
   "outputs": [
    {
     "name": "stdout",
     "output_type": "stream",
     "text": [
      "max_depth val: 2, CV Score Avg: 0.859156337465014 \n",
      "max_depth val: 3, CV Score Avg: 0.9222111155537785 \n",
      "max_depth val: 4, CV Score Avg: 0.956604025056644 \n",
      "max_depth val: 5, CV Score Avg: 0.9738104758096761 \n",
      "max_depth val: 6, CV Score Avg: 0.9787018525922964 \n",
      "max_depth val: 7, CV Score Avg: 0.9778755164600825 \n",
      "max_depth val: 8, CV Score Avg: 0.9803411968545914 \n",
      "max_depth val: 9, CV Score Avg: 0.9770491803278688 \n",
      "max_depth val: 10, CV Score Avg: 0.9762295081967214 \n",
      "max_depth val: 11, CV Score Avg: 0.9697054511528721 \n"
     ]
    }
   ],
   "source": [
    "max_depth_param_list = np.arange(2, 12)\n",
    "score_results_gb = []\n",
    "\n",
    "for depth in max_depth_param_list:\n",
    "    gb_reg = GradientBoostingClassifier(max_depth = depth)\n",
    "    kfold = KFold(n_splits=10)\n",
    "    score = cross_val_score(gb_reg, X0, Y0, cv = 10) # default scoring is R^2\n",
    "    score_results_gb.append(score)\n",
    "    print(\"max_depth val: %s, CV Score Avg: %s \" % (depth, np.mean(score)))"
   ]
  },
  {
   "cell_type": "code",
   "execution_count": 72,
   "metadata": {},
   "outputs": [
    {
     "name": "stdout",
     "output_type": "stream",
     "text": [
      "Optimal max_depth value using CV: 8\n"
     ]
    }
   ],
   "source": [
    "gb_avg_cv_scores = np.mean(np.array(score_results_gb), axis = 1)\n",
    "gb_max_avg_accuracy_index = np.argmax(gb_avg_cv_scores) \n",
    "print(\"Optimal max_depth value using CV: %s\" % max_depth_param_list[gb_max_avg_accuracy_index]) "
   ]
  },
  {
   "cell_type": "code",
   "execution_count": 73,
   "metadata": {},
   "outputs": [
    {
     "name": "stdout",
     "output_type": "stream",
     "text": [
      "Model Score on test set: 0.9673202614379085\n"
     ]
    }
   ],
   "source": [
    "mod_gb_reg = GradientBoostingClassifier(max_depth = max_depth_param_list[gb_max_avg_accuracy_index])\n",
    "mod_gb_reg_fit = mod_gb_reg.fit(X0, Y0)\n",
    "model_gb_score = mod_gb_reg_fit.score(X1,Y1)\n",
    "print(\"Model Score on test set: %s\" % model_gb_score)"
   ]
  },
  {
   "cell_type": "code",
   "execution_count": 74,
   "metadata": {},
   "outputs": [
    {
     "name": "stdout",
     "output_type": "stream",
     "text": [
      " 1) review                         0.419831\n",
      " 2) cleanliness                    0.112468\n",
      " 3) price                          0.105901\n",
      " 4) host_since                     0.101416\n",
      " 5) property_type                  0.072456\n",
      " 6) location                       0.059318\n",
      " 7) host_response_rate             0.049156\n",
      " 8) communication                  0.038593\n",
      " 9) number_beds                    0.028236\n",
      "10) number_bathroom                0.007622\n",
      "11) district                       0.004681\n",
      "12) host_identity_verified         0.000322\n"
     ]
    }
   ],
   "source": [
    "import numpy as np\n",
    " \n",
    "importances = mod_gb_reg_fit.feature_importances_\n",
    "#\n",
    "# Sort the feature importance in descending order\n",
    "#\n",
    "sorted_indices = np.argsort(importances)[::-1]\n",
    " \n",
    "feat_labels = X0.columns[0:]\n",
    " \n",
    "for f in range(X0.shape[1]):\n",
    "    print(\"%2d) %-*s %f\" % (f + 1, 30,\n",
    "                            feat_labels[sorted_indices[f]],\n",
    "                            importances[sorted_indices[f]]))\n"
   ]
  },
  {
   "cell_type": "code",
   "execution_count": 76,
   "metadata": {},
   "outputs": [
    {
     "data": {
      "image/png": "[encoded data removed]",
      "text/plain": [
       "<Figure size 640x480 with 1 Axes>"
      ]
     },
     "metadata": {},
     "output_type": "display_data"
    }
   ],
   "source": [
    "plt.title('Feature Importance for Gradient boosting classifier')\n",
    "plt.bar(range(X0.shape[1]), importances[sorted_indices], align='center')\n",
    "plt.xticks(range(X0.shape[1]), X0.columns[sorted_indices], rotation=90)\n",
    "plt.tight_layout()\n",
    "plt.show()"
   ]
  },
  {
   "cell_type": "markdown",
   "metadata": {},
   "source": [
    "# Ada Boost Classifier"
   ]
  },
  {
   "cell_type": "code",
   "execution_count": 77,
   "metadata": {},
   "outputs": [
    {
     "name": "stdout",
     "output_type": "stream",
     "text": [
      "max_depth val: 2, CV Score Avg: 0.9803478608556577 \n",
      "max_depth val: 3, CV Score Avg: 0.9795281887245102 \n",
      "max_depth val: 4, CV Score Avg: 0.9762428361988537 \n",
      "max_depth val: 5, CV Score Avg: 0.9770691723310676 \n",
      "max_depth val: 6, CV Score Avg: 0.9754298280687724 \n",
      "max_depth val: 7, CV Score Avg: 0.9754298280687724 \n",
      "max_depth val: 8, CV Score Avg: 0.9762495001999199 \n",
      "max_depth val: 9, CV Score Avg: 0.9778888444622151 \n",
      "max_depth val: 10, CV Score Avg: 0.9770491803278688 \n",
      "max_depth val: 11, CV Score Avg: 0.9713181394109023 \n",
      "max_depth val: 12, CV Score Avg: 0.961515393842463 \n",
      "max_depth val: 13, CV Score Avg: 0.9639677462348393 \n",
      "max_depth val: 14, CV Score Avg: 0.961515393842463 \n",
      "max_depth val: 15, CV Score Avg: 0.9582300413168066 \n",
      "max_depth val: 16, CV Score Avg: 0.9598693855791016 \n",
      "max_depth val: 17, CV Score Avg: 0.9598760495801679 \n",
      "max_depth val: 18, CV Score Avg: 0.959856057576969 \n",
      "max_depth val: 19, CV Score Avg: 0.959043049446888 \n",
      "max_depth val: 20, CV Score Avg: 0.9615087298413967 \n",
      "max_depth val: 21, CV Score Avg: 0.9655804344928696 \n"
     ]
    }
   ],
   "source": [
    "max_depth_param_list = np.arange(2, 22)\n",
    "score_results_ab = []\n",
    "\n",
    "for depth in max_depth_param_list:\n",
    "    ab_reg = AdaBoostClassifier(tree.DecisionTreeClassifier(\n",
    "        max_depth = depth), n_estimators = 500, learning_rate = 1)\n",
    "    kfold = KFold(n_splits=10)\n",
    "    score = cross_val_score(ab_reg, X0, Y0, cv = kfold) # default scoring is R^2\n",
    "    score_results_ab.append(score)\n",
    "    print(\"max_depth val: %s, CV Score Avg: %s \" % (depth, np.mean(score)))"
   ]
  },
  {
   "cell_type": "code",
   "execution_count": 78,
   "metadata": {},
   "outputs": [
    {
     "name": "stdout",
     "output_type": "stream",
     "text": [
      "Optimal max_depth value using CV: 2\n"
     ]
    }
   ],
   "source": [
    "ab_avg_cv_scores = np.mean(np.array(score_results_ab), axis = 1)\n",
    "ab_max_avg_accuracy_index = np.argmax(ab_avg_cv_scores) \n",
    "print(\"Optimal max_depth value using CV: %s\" % max_depth_param_list[ab_max_avg_accuracy_index]) "
   ]
  },
  {
   "cell_type": "code",
   "execution_count": 79,
   "metadata": {},
   "outputs": [
    {
     "name": "stdout",
     "output_type": "stream",
     "text": [
      "Model Score on test set: 0.9673202614379085\n"
     ]
    }
   ],
   "source": [
    "mod_ab_reg = AdaBoostClassifier(tree.DecisionTreeClassifier(max_depth = max_depth_param_list[\n",
    "ab_max_avg_accuracy_index]), n_estimators = 400, learning_rate = 1)\n",
    "mod_ab_reg_fit = mod_ab_reg.fit(X0, Y0)\n",
    "model_ab_score = mod_ab_reg_fit.score(X1,Y1)\n",
    "print(\"Model Score on test set: %s\" % model_ab_score)"
   ]
  },
  {
   "cell_type": "code",
   "execution_count": 80,
   "metadata": {},
   "outputs": [
    {
     "name": "stdout",
     "output_type": "stream",
     "text": [
      " 1) review                         0.271594\n",
      " 2) price                          0.181599\n",
      " 3) host_since                     0.124127\n",
      " 4) location                       0.101900\n",
      " 5) cleanliness                    0.088210\n",
      " 6) property_type                  0.063528\n",
      " 7) number_beds                    0.054602\n",
      " 8) communication                  0.042105\n",
      " 9) number_bathroom                0.030254\n",
      "10) district                       0.025519\n",
      "11) host_response_rate             0.015341\n",
      "12) host_identity_verified         0.001220\n"
     ]
    }
   ],
   "source": [
    "import numpy as np\n",
    " \n",
    "importances = mod_ab_reg_fit.feature_importances_\n",
    "#\n",
    "# Sort the feature importance in descending order\n",
    "#\n",
    "sorted_indices = np.argsort(importances)[::-1]\n",
    " \n",
    "feat_labels = X0.columns[0:]\n",
    " \n",
    "for f in range(X0.shape[1]):\n",
    "    print(\"%2d) %-*s %f\" % (f + 1, 30,\n",
    "                            feat_labels[sorted_indices[f]],\n",
    "                            importances[sorted_indices[f]]))\n"
   ]
  },
  {
   "cell_type": "code",
   "execution_count": 81,
   "metadata": {},
   "outputs": [
    {
     "data": {
      "image/png": "[encoded data removed]",
      "text/plain": [
       "<Figure size 640x480 with 1 Axes>"
      ]
     },
     "metadata": {},
     "output_type": "display_data"
    }
   ],
   "source": [
    "plt.title('Feature Importance for AdaBoost classifier')\n",
    "plt.bar(range(X0.shape[1]), importances[sorted_indices], align='center')\n",
    "plt.xticks(range(X0.shape[1]), X0.columns[sorted_indices], rotation=90)\n",
    "plt.tight_layout()\n",
    "plt.show()"
   ]
  }
 ],
 "metadata": {
  "kernelspec": {
   "display_name": "Python 3",
   "language": "python",
   "name": "python3"
  },
  "language_info": {
   "codemirror_mode": {
    "name": "ipython",
    "version": 3
   },
   "file_extension": ".py",
   "mimetype": "text/x-python",
   "name": "python",
   "nbconvert_exporter": "python",
   "pygments_lexer": "ipython3",
   "version": "3.8.5"
  }
 },
 "nbformat": 4,
 "nbformat_minor": 5
}
